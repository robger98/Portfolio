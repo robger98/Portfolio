{
  "nbformat": 4,
  "nbformat_minor": 0,
  "metadata": {
    "colab": {
      "name": "Copy of AI Project 5",
      "provenance": [],
      "collapsed_sections": []
    },
    "kernelspec": {
      "name": "python3",
      "display_name": "Python 3"
    },
    "language_info": {
      "name": "python"
    },
    "accelerator": "GPU"
  },
  "cells": [
    {
      "cell_type": "markdown",
      "metadata": {
        "id": "h67IyVsP9NMq"
      },
      "source": [
        "# AI Project 5\n",
        "\n",
        "In this project you will complete the provided Python code, using Tensorflow, to perform image classification on the Fashion-MNIST using various CNN architectures. \n",
        "\n",
        "## **Important!** \n",
        "Make sure you change your runtime type to GPU or TPU! This can be found in the top menu following \"Runtime->Change runtime type\" then select from the dropdown either gpu or tpu.\n",
        "\n"
      ]
    },
    {
      "cell_type": "markdown",
      "metadata": {
        "id": "ET0x3Edic4sg"
      },
      "source": [
        "## Imports, Data, and Hyperparameters"
      ]
    },
    {
      "cell_type": "markdown",
      "metadata": {
        "id": "D8mFRY-Y_Ok9"
      },
      "source": [
        "### Imports"
      ]
    },
    {
      "cell_type": "code",
      "metadata": {
        "colab": {
          "base_uri": "https://localhost:8080/"
        },
        "id": "r3GN4cEe_ZhO",
        "outputId": "210ce930-c8df-492d-f1f1-7d5859a7a1ea"
      },
      "source": [
        "import tensorflow as tf\n",
        "from tensorflow.keras import layers\n",
        "from tensorflow.keras import optimizers\n",
        "\n",
        "import numpy\n",
        "import matplotlib.pyplot as plt\n",
        "\n",
        "import time\n",
        "\n",
        "print(tf.__version__)"
      ],
      "execution_count": null,
      "outputs": [
        {
          "output_type": "stream",
          "text": [
            "2.4.1\n"
          ],
          "name": "stdout"
        }
      ]
    },
    {
      "cell_type": "markdown",
      "metadata": {
        "id": "maFMqmYg_wKt"
      },
      "source": [
        "### Data"
      ]
    },
    {
      "cell_type": "code",
      "metadata": {
        "colab": {
          "base_uri": "https://localhost:8080/"
        },
        "id": "4JcERc1O_xvO",
        "outputId": "d444a783-a4b8-460e-a8c3-91a4ca71d488"
      },
      "source": [
        "data = tf.keras.datasets.fashion_mnist\n",
        "\n",
        "# Separate data into train and test\n",
        "(train_data, train_labels), (test_data, test_labels) = data.load_data()\n",
        "\n",
        "# get info about data\n",
        "train_size = len(train_data)\n",
        "test_size = len(test_data)\n",
        "data_shape = train_data[0].shape\n",
        "num_classes = len(set(test_labels))\n",
        "\n",
        "print(\n",
        "    \"There are \",\n",
        "    train_size,\n",
        "    \" training examples and \",\n",
        "    test_size,\n",
        "    \" testing examples with \",\n",
        "    num_classes,\n",
        "    \" classes\",\n",
        ")"
      ],
      "execution_count": null,
      "outputs": [
        {
          "output_type": "stream",
          "text": [
            "Downloading data from https://storage.googleapis.com/tensorflow/tf-keras-datasets/train-labels-idx1-ubyte.gz\n",
            "32768/29515 [=================================] - 0s 0us/step\n",
            "Downloading data from https://storage.googleapis.com/tensorflow/tf-keras-datasets/train-images-idx3-ubyte.gz\n",
            "26427392/26421880 [==============================] - 0s 0us/step\n",
            "Downloading data from https://storage.googleapis.com/tensorflow/tf-keras-datasets/t10k-labels-idx1-ubyte.gz\n",
            "8192/5148 [===============================================] - 0s 0us/step\n",
            "Downloading data from https://storage.googleapis.com/tensorflow/tf-keras-datasets/t10k-images-idx3-ubyte.gz\n",
            "4423680/4422102 [==============================] - 0s 0us/step\n",
            "There are  60000  training examples and  10000  testing examples with  10  classes\n"
          ],
          "name": "stdout"
        }
      ]
    },
    {
      "cell_type": "markdown",
      "metadata": {
        "id": "h0gIOpnSAIOj"
      },
      "source": [
        "### Preprocessing"
      ]
    },
    {
      "cell_type": "code",
      "metadata": {
        "colab": {
          "base_uri": "https://localhost:8080/"
        },
        "id": "4JO6YF5jAK0M",
        "outputId": "d1531067-5d5c-4522-c0c7-824a51cb7cb3"
      },
      "source": [
        "print(\"Each image is of shape \", data_shape)\n",
        "\n",
        "### Preproccess Data ###\n",
        "train_data = train_data / 255\n",
        "train_data = train_data.reshape(train_size, data_shape[0], data_shape[1], 1)\n",
        "test_data = test_data / 255\n",
        "test_data = test_data.reshape(test_size, data_shape[0], data_shape[1], 1)\n",
        "\n",
        "data_shape = train_data[0].shape\n",
        "print(\"New image shape is \", data_shape)"
      ],
      "execution_count": null,
      "outputs": [
        {
          "output_type": "stream",
          "text": [
            "Each image is of shape  (28, 28)\n",
            "New image shape is  (28, 28, 1)\n"
          ],
          "name": "stdout"
        }
      ]
    },
    {
      "cell_type": "markdown",
      "metadata": {
        "id": "H7Zli2y9CrHK"
      },
      "source": [
        "### Global Hyperparameters"
      ]
    },
    {
      "cell_type": "code",
      "metadata": {
        "id": "vXLDy0huCunw"
      },
      "source": [
        "LEARNING_RATE = 0.0001\n",
        "BATCH_SIZE = 32\n",
        "EPOCHS = 10"
      ],
      "execution_count": null,
      "outputs": []
    },
    {
      "cell_type": "markdown",
      "metadata": {
        "id": "mI_CXCYm9jbl"
      },
      "source": [
        "## **Part 1 - The Effect of Filters**\n",
        "\n",
        "In this section you will be comparing the relative performance and training times for two different CNN architectures. \n",
        "\n",
        "Both architectures will have the following layers in order:\n",
        "\n",
        "``` Python\n",
        "Conv2D <- input layer provided\n",
        "Conv2D\n",
        "MaxPooling2D((2,2))\n",
        "Conv2D\n",
        "Conv2D\n",
        "MaxPooling2D((2,2))\n",
        "Flatten\n",
        "Dense(1024 nodes)\n",
        "Dense(num_classes, softmax) <- output layer provided\n",
        "```\n",
        "\n",
        "The input layers and output layer will be provided. \n",
        "\n",
        "In ```build_model_1A()``` the first two Conv2D layers should have 16 filters, and the second two Conv2D layers should have 32 filters.\n",
        "\n",
        "In ```build_model_1B()``` the first two Conv2d layers should have 64 filters, and the second two Conv2D layers should have 128 filters.\n",
        "\n",
        "All layers, except the output layer which is provided, should have ```activation=\"relu\"```. Also all the Conv2D layers should have ```padding=\"same\"``` and ```kernal_size=(3,3)``` passed as arguements.\n",
        "\n",
        "Finally both max pooling layers should have a pool size of (2, 2)\n",
        "\n",
        "**Documentation for the each layer type:**\n",
        "\n",
        "*Conv2D*: https://keras.io/api/layers/convolution_layers/convolution2d/\n",
        "\n",
        "*MaxPooling2D*: https://keras.io/api/layers/pooling_layers/max_pooling2d/\n",
        "\n",
        "*Flatten*: https://keras.io/api/layers/reshaping_layers/flatten/\n",
        "\n",
        "*Dense*: https://keras.io/api/layers/core_layers/dense/\n",
        "\n",
        "**Documentation for Sequential model**: https://keras.io/guides/sequential_model/"
      ]
    },
    {
      "cell_type": "markdown",
      "metadata": {
        "id": "9zvsQ3bxBkpv"
      },
      "source": [
        "### ***TODO*** Model 1A"
      ]
    },
    {
      "cell_type": "code",
      "metadata": {
        "id": "qEPzweNg9FZ3"
      },
      "source": [
        "def build_model_1A():\n",
        "  return tf.keras.Sequential(\n",
        "      [layers.Conv2D( # <-- Input layer\n",
        "            filters=16,\n",
        "            kernel_size=(3, 3),\n",
        "            activation=\"relu\",\n",
        "            padding=\"same\",\n",
        "            input_shape=data_shape,\n",
        "        ),\n",
        "        layers.Conv2D(filters=16, activation=\"relu\", padding=\"same\", kernel_size=(3,3)),\n",
        "        layers.MaxPooling2D(pool_size=(2, 2)),\n",
        "        layers.Conv2D(filters=32, activation=\"relu\", padding=\"same\", kernel_size=(3,3)),\n",
        "        layers.Conv2D(filters=32, activation=\"relu\", padding=\"same\", kernel_size=(3,3)),\n",
        "        layers.MaxPooling2D(pool_size=(2, 2)),\n",
        "        # !!! Your layers here !!!\n",
        "        layers.Flatten(),\n",
        "        layers.Dense(1024),\n",
        "        layers.Dense(num_classes, activation=\"softmax\")] # <-- Output layer\n",
        "  )"
      ],
      "execution_count": null,
      "outputs": []
    },
    {
      "cell_type": "markdown",
      "metadata": {
        "id": "C605QLGFCBbL"
      },
      "source": [
        "### ***TODO*** Model 1B"
      ]
    },
    {
      "cell_type": "code",
      "metadata": {
        "id": "Ujotmsx7CDKc"
      },
      "source": [
        "def build_model_1B():\n",
        "  return tf.keras.Sequential(\n",
        "      [layers.Conv2D( # <-- Input layer\n",
        "            filters=64,\n",
        "            kernel_size=(3, 3),\n",
        "            activation=\"relu\",\n",
        "            padding=\"same\",\n",
        "            input_shape=data_shape,\n",
        "        ),\n",
        "        layers.Conv2D(filters=64, activation=\"relu\", padding=\"same\", kernel_size=(3,3)),\n",
        "        layers.MaxPooling2D(pool_size=(2, 2)),\n",
        "        layers.Conv2D(filters=64, activation=\"relu\", padding=\"same\", kernel_size=(3,3)),\n",
        "        layers.Conv2D(filters=64, activation=\"relu\", padding=\"same\", kernel_size=(3,3)),\n",
        "        layers.MaxPooling2D(pool_size=(2, 2)),\n",
        "        # !!! Your layers here !!!\n",
        "        layers.Flatten(),\n",
        "        layers.Dense(1024),\n",
        "        layers.Dense(num_classes, activation=\"softmax\")] # <-- Output layer\n",
        "  )"
      ],
      "execution_count": null,
      "outputs": []
    },
    {
      "cell_type": "markdown",
      "metadata": {
        "id": "ZX6a0n4YCaLz"
      },
      "source": [
        "### Model Compilation and Summaries\n",
        "\n",
        "Compiles and prints summaries for the two architectures. Do not change.\n"
      ]
    },
    {
      "cell_type": "code",
      "metadata": {
        "colab": {
          "base_uri": "https://localhost:8080/"
        },
        "id": "71xHi369CZbX",
        "outputId": "e7979aa6-6002-4593-d7a5-3ef8a118cbc8"
      },
      "source": [
        "tf.keras.backend.clear_session() # clear previously compiled models\n",
        "\n",
        "optimizer = optimizers.Adam(lr = LEARNING_RATE) # set optimizer\n",
        "\n",
        "# get networks\n",
        "model_1a = build_model_1A() \n",
        "model_1b = build_model_1B()\n",
        "\n",
        "\n",
        "# compile networks\n",
        "model_1a.compile(\n",
        "    optimizer=optimizer,\n",
        "    loss=tf.keras.losses.SparseCategoricalCrossentropy(from_logits=True),\n",
        "    metrics=[\"accuracy\"],\n",
        ")\n",
        "\n",
        "model_1b.compile(\n",
        "    optimizer=optimizer,\n",
        "    loss=tf.keras.losses.SparseCategoricalCrossentropy(from_logits=True),\n",
        "    metrics=[\"accuracy\"],\n",
        ")\n",
        "\n",
        "# print summaries\n",
        "\n",
        "print(\"\\nModel 1A Architecture\\n\")\n",
        "model_1a.summary()\n",
        "\n",
        "print(\"\\nModel 1B Architecture\\n\")\n",
        "model_1b.summary()"
      ],
      "execution_count": null,
      "outputs": [
        {
          "output_type": "stream",
          "text": [
            "\n",
            "Model 1A Architecture\n",
            "\n",
            "Model: \"sequential\"\n",
            "_________________________________________________________________\n",
            "Layer (type)                 Output Shape              Param #   \n",
            "=================================================================\n",
            "conv2d (Conv2D)              (None, 28, 28, 16)        160       \n",
            "_________________________________________________________________\n",
            "conv2d_1 (Conv2D)            (None, 28, 28, 16)        2320      \n",
            "_________________________________________________________________\n",
            "max_pooling2d (MaxPooling2D) (None, 14, 14, 16)        0         \n",
            "_________________________________________________________________\n",
            "conv2d_2 (Conv2D)            (None, 14, 14, 32)        4640      \n",
            "_________________________________________________________________\n",
            "conv2d_3 (Conv2D)            (None, 14, 14, 32)        9248      \n",
            "_________________________________________________________________\n",
            "max_pooling2d_1 (MaxPooling2 (None, 7, 7, 32)          0         \n",
            "_________________________________________________________________\n",
            "flatten (Flatten)            (None, 1568)              0         \n",
            "_________________________________________________________________\n",
            "dense (Dense)                (None, 1024)              1606656   \n",
            "_________________________________________________________________\n",
            "dense_1 (Dense)              (None, 10)                10250     \n",
            "=================================================================\n",
            "Total params: 1,633,274\n",
            "Trainable params: 1,633,274\n",
            "Non-trainable params: 0\n",
            "_________________________________________________________________\n",
            "\n",
            "Model 1B Architecture\n",
            "\n",
            "Model: \"sequential_1\"\n",
            "_________________________________________________________________\n",
            "Layer (type)                 Output Shape              Param #   \n",
            "=================================================================\n",
            "conv2d_4 (Conv2D)            (None, 28, 28, 64)        640       \n",
            "_________________________________________________________________\n",
            "conv2d_5 (Conv2D)            (None, 28, 28, 64)        36928     \n",
            "_________________________________________________________________\n",
            "max_pooling2d_2 (MaxPooling2 (None, 14, 14, 64)        0         \n",
            "_________________________________________________________________\n",
            "conv2d_6 (Conv2D)            (None, 14, 14, 64)        36928     \n",
            "_________________________________________________________________\n",
            "conv2d_7 (Conv2D)            (None, 14, 14, 64)        36928     \n",
            "_________________________________________________________________\n",
            "max_pooling2d_3 (MaxPooling2 (None, 7, 7, 64)          0         \n",
            "_________________________________________________________________\n",
            "flatten_1 (Flatten)          (None, 3136)              0         \n",
            "_________________________________________________________________\n",
            "dense_2 (Dense)              (None, 1024)              3212288   \n",
            "_________________________________________________________________\n",
            "dense_3 (Dense)              (None, 10)                10250     \n",
            "=================================================================\n",
            "Total params: 3,333,962\n",
            "Trainable params: 3,333,962\n",
            "Non-trainable params: 0\n",
            "_________________________________________________________________\n"
          ],
          "name": "stdout"
        }
      ]
    },
    {
      "cell_type": "markdown",
      "metadata": {
        "id": "qUpK13JZEKW1"
      },
      "source": [
        "### Testing Helper Method\n",
        "\n",
        "Method to help with testing. Do not change\n"
      ]
    },
    {
      "cell_type": "code",
      "metadata": {
        "id": "zvGTmm0gEQ5k"
      },
      "source": [
        "def perf_and_test(model, model_name):\n",
        "  start = time.time()\n",
        "  history = model.fit(train_data, train_labels, epochs=EPOCHS, batch_size=BATCH_SIZE)\n",
        "  print(\"\\n\" + model_name + \" testing information\\n\")\n",
        "  print(\"\\nTraining took \", (time.time() - start), \"seconds\\n\")\n",
        "\n",
        "  print(\"\\nTesting statistics\\n\")\n",
        "  test_loss, test_acc = model.evaluate(test_data, test_labels, verbose=2)\n",
        "\n",
        "  fig,ax = plt.subplots()\n",
        "  ax.plot(history.history['accuracy'],color=\"red\")\n",
        "  ax.set_xlabel(\"epoch\",fontsize=14)\n",
        "  ax.set_ylabel(\"accuracy\", color=\"red\", fontsize=14)\n",
        "  ax2=ax.twinx()\n",
        "  ax2.plot(history.history['loss'],color=\"blue\")\n",
        "  ax2.set_ylabel(\"loss\", color=\"blue\", fontsize=14)\n",
        "  plt.title(\"Training Acc. and Loss: \" + model_name)\n",
        "  plt.show()"
      ],
      "execution_count": null,
      "outputs": []
    },
    {
      "cell_type": "markdown",
      "metadata": {
        "id": "Rjt9DwSMXgMo"
      },
      "source": [
        "### ***TODO*** Global Hyperparameters\n",
        "\n",
        "Start with a number of epochs that seems to high. After training, examine the loss plot to identify a point of diminishing returns in training, and then set the number of training epochs equal to that."
      ]
    },
    {
      "cell_type": "code",
      "metadata": {
        "id": "GFI31S_WXgMp"
      },
      "source": [
        "EPOCHS = 25"
      ],
      "execution_count": null,
      "outputs": []
    },
    {
      "cell_type": "markdown",
      "metadata": {
        "id": "Ni9W075_EkLR"
      },
      "source": [
        "### Testing models\n",
        "\n",
        "The following code cell will run both models and provided statistics for the training time, testing accuracy, and testing loss of the models. It also generates graphs for training accuracy and loss over time. These graphs can be used in your report.\n"
      ]
    },
    {
      "cell_type": "code",
      "metadata": {
        "colab": {
          "base_uri": "https://localhost:8080/",
          "height": 1000
        },
        "id": "gpurcAUFEsoE",
        "outputId": "0f0b5853-9963-4b15-a8d7-2414a00e93c3"
      },
      "source": [
        "### Model Compilation code included to allow for fresh reruns ###\n",
        "\n",
        "tf.keras.backend.clear_session() # clear previously compiled models\n",
        "\n",
        "optimizer = optimizers.Adam(lr = LEARNING_RATE) # set optimizer\n",
        "\n",
        "# get networks\n",
        "model_1a = build_model_1A() \n",
        "model_1b = build_model_1B()\n",
        "\n",
        "\n",
        "# compile networks\n",
        "model_1a.compile(\n",
        "    optimizer=optimizer,\n",
        "    loss=tf.keras.losses.SparseCategoricalCrossentropy(from_logits=True),\n",
        "    metrics=[\"accuracy\"],\n",
        ")\n",
        "\n",
        "model_1b.compile(\n",
        "    optimizer=optimizer,\n",
        "    loss=tf.keras.losses.SparseCategoricalCrossentropy(from_logits=True),\n",
        "    metrics=[\"accuracy\"],\n",
        ")\n",
        "\n",
        "# test\n",
        "\n",
        "perf_and_test(model_1a, \"Model 1A\")\n",
        "perf_and_test(model_1b, \"Model 1B\")"
      ],
      "execution_count": null,
      "outputs": [
        {
          "output_type": "stream",
          "text": [
            "Epoch 1/25\n",
            "1875/1875 [==============================] - 6s 3ms/step - loss: 0.7642 - accuracy: 0.7303\n",
            "Epoch 2/25\n",
            "1875/1875 [==============================] - 6s 3ms/step - loss: 0.3647 - accuracy: 0.8701\n",
            "Epoch 3/25\n",
            "1875/1875 [==============================] - 6s 3ms/step - loss: 0.3096 - accuracy: 0.8900\n",
            "Epoch 4/25\n",
            "1875/1875 [==============================] - 6s 3ms/step - loss: 0.2819 - accuracy: 0.8983\n",
            "Epoch 5/25\n",
            "1875/1875 [==============================] - 6s 3ms/step - loss: 0.2574 - accuracy: 0.9077\n",
            "Epoch 6/25\n",
            "1875/1875 [==============================] - 6s 3ms/step - loss: 0.2445 - accuracy: 0.9122\n",
            "Epoch 7/25\n",
            "1875/1875 [==============================] - 6s 3ms/step - loss: 0.2284 - accuracy: 0.9194\n",
            "Epoch 8/25\n",
            "1875/1875 [==============================] - 6s 3ms/step - loss: 0.2134 - accuracy: 0.9237\n",
            "Epoch 9/25\n",
            "1875/1875 [==============================] - 6s 3ms/step - loss: 0.2042 - accuracy: 0.9257\n",
            "Epoch 10/25\n",
            "1875/1875 [==============================] - 6s 3ms/step - loss: 0.1925 - accuracy: 0.9316\n",
            "Epoch 11/25\n",
            "1875/1875 [==============================] - 6s 3ms/step - loss: 0.1824 - accuracy: 0.9339\n",
            "Epoch 12/25\n",
            "1875/1875 [==============================] - 6s 3ms/step - loss: 0.1765 - accuracy: 0.9372\n",
            "Epoch 13/25\n",
            "1875/1875 [==============================] - 6s 3ms/step - loss: 0.1732 - accuracy: 0.9383\n",
            "Epoch 14/25\n",
            "1875/1875 [==============================] - 6s 3ms/step - loss: 0.1705 - accuracy: 0.9389\n",
            "Epoch 15/25\n",
            "1875/1875 [==============================] - 6s 3ms/step - loss: 0.1607 - accuracy: 0.9423\n",
            "Epoch 16/25\n",
            "1875/1875 [==============================] - 6s 3ms/step - loss: 0.1568 - accuracy: 0.9430\n",
            "Epoch 17/25\n",
            "1875/1875 [==============================] - 6s 3ms/step - loss: 0.1520 - accuracy: 0.9450\n",
            "Epoch 18/25\n",
            "1875/1875 [==============================] - 6s 3ms/step - loss: 0.1473 - accuracy: 0.9454\n",
            "Epoch 19/25\n",
            "1875/1875 [==============================] - 6s 3ms/step - loss: 0.1394 - accuracy: 0.9492\n",
            "Epoch 20/25\n",
            "1875/1875 [==============================] - 6s 3ms/step - loss: 0.1358 - accuracy: 0.9500\n",
            "Epoch 21/25\n",
            "1875/1875 [==============================] - 6s 3ms/step - loss: 0.1308 - accuracy: 0.9533\n",
            "Epoch 22/25\n",
            "1875/1875 [==============================] - 6s 3ms/step - loss: 0.1258 - accuracy: 0.9548\n",
            "Epoch 23/25\n",
            "1875/1875 [==============================] - 6s 3ms/step - loss: 0.1245 - accuracy: 0.9545\n",
            "Epoch 24/25\n",
            "1875/1875 [==============================] - 6s 3ms/step - loss: 0.1238 - accuracy: 0.9550\n",
            "Epoch 25/25\n",
            "1875/1875 [==============================] - 6s 3ms/step - loss: 0.1115 - accuracy: 0.9600\n",
            "\n",
            "Model 1A testing information\n",
            "\n",
            "\n",
            "Training took  150.53833317756653 seconds\n",
            "\n",
            "\n",
            "Testing statistics\n",
            "\n",
            "313/313 - 1s - loss: 0.2546 - accuracy: 0.9207\n"
          ],
          "name": "stdout"
        },
        {
          "output_type": "display_data",
          "data": {
            "image/png": "[encoded data removed]",
            "text/plain": [
              "<Figure size 432x288 with 2 Axes>"
            ]
          },
          "metadata": {
            "tags": [],
            "needs_background": "light"
          }
        },
        {
          "output_type": "stream",
          "text": [
            "Epoch 1/25\n",
            "1875/1875 [==============================] - 10s 5ms/step - loss: 0.5133 - accuracy: 0.8155\n",
            "Epoch 2/25\n",
            "1875/1875 [==============================] - 10s 5ms/step - loss: 0.2662 - accuracy: 0.9048\n",
            "Epoch 3/25\n",
            "1875/1875 [==============================] - 10s 5ms/step - loss: 0.2194 - accuracy: 0.9214\n",
            "Epoch 4/25\n",
            "1875/1875 [==============================] - 10s 5ms/step - loss: 0.1953 - accuracy: 0.9307\n",
            "Epoch 5/25\n",
            "1875/1875 [==============================] - 10s 5ms/step - loss: 0.1812 - accuracy: 0.9345\n",
            "Epoch 6/25\n",
            "1875/1875 [==============================] - 10s 5ms/step - loss: 0.1594 - accuracy: 0.9409\n",
            "Epoch 7/25\n",
            "1875/1875 [==============================] - 10s 5ms/step - loss: 0.1488 - accuracy: 0.9465\n",
            "Epoch 8/25\n",
            "1875/1875 [==============================] - 10s 5ms/step - loss: 0.1346 - accuracy: 0.9521\n",
            "Epoch 9/25\n",
            "1875/1875 [==============================] - 10s 5ms/step - loss: 0.1180 - accuracy: 0.9587\n",
            "Epoch 10/25\n",
            "1875/1875 [==============================] - 10s 5ms/step - loss: 0.1078 - accuracy: 0.9617\n",
            "Epoch 11/25\n",
            "1875/1875 [==============================] - 10s 5ms/step - loss: 0.1005 - accuracy: 0.9643\n",
            "Epoch 12/25\n",
            "1875/1875 [==============================] - 10s 5ms/step - loss: 0.0938 - accuracy: 0.9671\n",
            "Epoch 13/25\n",
            "1875/1875 [==============================] - 10s 5ms/step - loss: 0.0810 - accuracy: 0.9708\n",
            "Epoch 14/25\n",
            "1875/1875 [==============================] - 10s 5ms/step - loss: 0.0735 - accuracy: 0.9748\n",
            "Epoch 15/25\n",
            "1875/1875 [==============================] - 10s 5ms/step - loss: 0.0642 - accuracy: 0.9777\n",
            "Epoch 16/25\n",
            "1875/1875 [==============================] - 10s 5ms/step - loss: 0.0600 - accuracy: 0.9783\n",
            "Epoch 17/25\n",
            "1875/1875 [==============================] - 10s 5ms/step - loss: 0.0517 - accuracy: 0.9810\n",
            "Epoch 18/25\n",
            "1875/1875 [==============================] - 10s 5ms/step - loss: 0.0465 - accuracy: 0.9844\n",
            "Epoch 19/25\n",
            "1875/1875 [==============================] - 10s 5ms/step - loss: 0.0390 - accuracy: 0.9867\n",
            "Epoch 20/25\n",
            "1875/1875 [==============================] - 10s 5ms/step - loss: 0.0370 - accuracy: 0.9870\n",
            "Epoch 21/25\n",
            "1875/1875 [==============================] - 10s 5ms/step - loss: 0.0329 - accuracy: 0.9890\n",
            "Epoch 22/25\n",
            "1875/1875 [==============================] - 10s 5ms/step - loss: 0.0289 - accuracy: 0.9906\n",
            "Epoch 23/25\n",
            "1875/1875 [==============================] - 10s 5ms/step - loss: 0.0262 - accuracy: 0.9912\n",
            "Epoch 24/25\n",
            "1875/1875 [==============================] - 10s 5ms/step - loss: 0.0245 - accuracy: 0.9918\n",
            "Epoch 25/25\n",
            "1875/1875 [==============================] - 10s 5ms/step - loss: 0.0255 - accuracy: 0.9903\n",
            "\n",
            "Model 1B testing information\n",
            "\n",
            "\n",
            "Training took  245.9213240146637 seconds\n",
            "\n",
            "\n",
            "Testing statistics\n",
            "\n",
            "313/313 - 1s - loss: 0.4314 - accuracy: 0.9166\n"
          ],
          "name": "stdout"
        },
        {
          "output_type": "display_data",
          "data": {
            "image/png": "[encoded data removed]",
            "text/plain": [
              "<Figure size 432x288 with 2 Axes>"
            ]
          },
          "metadata": {
            "tags": [],
            "needs_background": "light"
          }
        }
      ]
    },
    {
      "cell_type": "markdown",
      "metadata": {
        "id": "saAP6dZ-H1At"
      },
      "source": [
        "## **Part 2 - Dropout Layers**\n",
        "\n",
        "In part 2, we will be examining the effect of dropout layers on the performance of the model. Copy your code from the ```build_model_1B()``` method into the ```build_model_2()``` method, and then add dropout layers after each max pooling layer. Model 2 architecture should be:\n",
        "\n",
        "```\n",
        "Conv2D\n",
        "Conv2D\n",
        "MaxPooling2D((2,2))\n",
        "Dropout(0.5) <- Add this\n",
        "Conv2D\n",
        "Conv2D\n",
        "MaxPooling2D((2,2))\n",
        "Dropout(0.5) <- Add this\n",
        "Flatten\n",
        "Dense(1024 nodes)\n",
        "Dense(num_classes, softmax)\n",
        "```\n",
        "\n",
        "Note that the we are passing ```0.5``` as an argument to the dropout layers. This means that 50% of the connection between the max pooling and next layer will be dropped.\n",
        "\n",
        "*Documentation on dropout layers can be found here*: https://keras.io/api/layers/regularization_layers/dropout/"
      ]
    },
    {
      "cell_type": "markdown",
      "metadata": {
        "id": "LnS9xxNUJrln"
      },
      "source": [
        "### ***TODO*** Model 2"
      ]
    },
    {
      "cell_type": "code",
      "metadata": {
        "id": "3IkD65YIJzSw"
      },
      "source": [
        "def build_model_2():\n",
        "  return tf.keras.Sequential(\n",
        "      [layers.Conv2D( # <-- Input layer\n",
        "            filters=64,\n",
        "            kernel_size=(3, 3),\n",
        "            activation=\"relu\",\n",
        "            padding=\"same\",\n",
        "            input_shape=data_shape,\n",
        "        ),\n",
        "        layers.Conv2D(filters=64, activation=\"relu\", padding=\"same\", kernel_size=(3,3)),\n",
        "        layers.MaxPooling2D(pool_size=(2, 2)),\n",
        "       layers.Dropout(0.5),\n",
        "        layers.Conv2D(filters=64, activation=\"relu\", padding=\"same\", kernel_size=(3,3)),\n",
        "        layers.Conv2D(filters=64, activation=\"relu\", padding=\"same\", kernel_size=(3,3)),\n",
        "        layers.MaxPooling2D(pool_size=(2, 2)),\n",
        "       layers.Dropout(0.5),\n",
        "        # !!! Your layers here !!!\n",
        "        layers.Flatten(),\n",
        "        layers.Dense(1024),\n",
        "        layers.Dense(num_classes, activation=\"softmax\")] # <-- Output layer\n",
        "  )"
      ],
      "execution_count": null,
      "outputs": []
    },
    {
      "cell_type": "markdown",
      "metadata": {
        "id": "LgsXrqokKge-"
      },
      "source": [
        "### Model Compilation and Summaries\n"
      ]
    },
    {
      "cell_type": "code",
      "metadata": {
        "id": "AV_0oi2vKge_",
        "colab": {
          "base_uri": "https://localhost:8080/"
        },
        "outputId": "baa2532c-1d51-4fd7-a5fa-6e45051e4c58"
      },
      "source": [
        "tf.keras.backend.clear_session() # clear previously compiled models\n",
        "\n",
        "optimizer = optimizers.Adam(lr = LEARNING_RATE) # set optimizer\n",
        "\n",
        "# get network\n",
        "model_2 = build_model_2() \n",
        "\n",
        "# compile network\n",
        "model_2.compile(\n",
        "    optimizer=optimizer,\n",
        "    loss=tf.keras.losses.SparseCategoricalCrossentropy(from_logits=True),\n",
        "    metrics=[\"accuracy\"],\n",
        ")\n",
        "\n",
        "# print summary\n",
        "\n",
        "print(\"\\nModel 2 Architecture\\n\")\n",
        "model_2.summary()\n",
        "\n"
      ],
      "execution_count": null,
      "outputs": [
        {
          "output_type": "stream",
          "text": [
            "\n",
            "Model 2 Architecture\n",
            "\n",
            "Model: \"sequential\"\n",
            "_________________________________________________________________\n",
            "Layer (type)                 Output Shape              Param #   \n",
            "=================================================================\n",
            "conv2d (Conv2D)              (None, 28, 28, 64)        640       \n",
            "_________________________________________________________________\n",
            "conv2d_1 (Conv2D)            (None, 28, 28, 64)        36928     \n",
            "_________________________________________________________________\n",
            "max_pooling2d (MaxPooling2D) (None, 14, 14, 64)        0         \n",
            "_________________________________________________________________\n",
            "dropout (Dropout)            (None, 14, 14, 64)        0         \n",
            "_________________________________________________________________\n",
            "conv2d_2 (Conv2D)            (None, 14, 14, 64)        36928     \n",
            "_________________________________________________________________\n",
            "conv2d_3 (Conv2D)            (None, 14, 14, 64)        36928     \n",
            "_________________________________________________________________\n",
            "max_pooling2d_1 (MaxPooling2 (None, 7, 7, 64)          0         \n",
            "_________________________________________________________________\n",
            "dropout_1 (Dropout)          (None, 7, 7, 64)          0         \n",
            "_________________________________________________________________\n",
            "flatten (Flatten)            (None, 3136)              0         \n",
            "_________________________________________________________________\n",
            "dense (Dense)                (None, 1024)              3212288   \n",
            "_________________________________________________________________\n",
            "dense_1 (Dense)              (None, 10)                10250     \n",
            "=================================================================\n",
            "Total params: 3,333,962\n",
            "Trainable params: 3,333,962\n",
            "Non-trainable params: 0\n",
            "_________________________________________________________________\n"
          ],
          "name": "stdout"
        }
      ]
    },
    {
      "cell_type": "markdown",
      "metadata": {
        "id": "3s5mSscjYLJH"
      },
      "source": [
        "### **TODO** Global Hyperparameters\n",
        "\n",
        "Dropout layers, while capable of making the model more robust, also require more training. You should again increase the number of epochs to find a point of diminishing returns."
      ]
    },
    {
      "cell_type": "code",
      "metadata": {
        "id": "U5J5d92TYLJJ"
      },
      "source": [
        "EPOCHS = 25"
      ],
      "execution_count": null,
      "outputs": []
    },
    {
      "cell_type": "markdown",
      "metadata": {
        "id": "Yk8Qz2T1Ku1M"
      },
      "source": [
        "### Testing Model 2\n"
      ]
    },
    {
      "cell_type": "code",
      "metadata": {
        "id": "hCKGZ652K40G",
        "colab": {
          "base_uri": "https://localhost:8080/",
          "height": 1000
        },
        "outputId": "97f62191-0f17-431d-94ee-4aef6fc0c5ce"
      },
      "source": [
        "tf.keras.backend.clear_session() # clear previously compiled models\n",
        "\n",
        "optimizer = optimizers.Adam(lr = LEARNING_RATE) # set optimizer\n",
        "\n",
        "# get network\n",
        "model_2 = build_model_2() \n",
        "\n",
        "\n",
        "\n",
        "# compile network\n",
        "model_2.compile(\n",
        "    optimizer=optimizer,\n",
        "    loss=tf.keras.losses.SparseCategoricalCrossentropy(from_logits=True),\n",
        "    metrics=[\"accuracy\"],\n",
        ")\n",
        "\n",
        "perf_and_test(model_2, \"Model 2\")"
      ],
      "execution_count": null,
      "outputs": [
        {
          "output_type": "stream",
          "text": [
            "Epoch 1/20\n",
            "1875/1875 [==============================] - 11s 5ms/step - loss: 0.8133 - accuracy: 0.7043\n",
            "Epoch 2/20\n",
            "1875/1875 [==============================] - 10s 5ms/step - loss: 0.4151 - accuracy: 0.8497\n",
            "Epoch 3/20\n",
            "1875/1875 [==============================] - 10s 5ms/step - loss: 0.3559 - accuracy: 0.8708\n",
            "Epoch 4/20\n",
            "1875/1875 [==============================] - 10s 5ms/step - loss: 0.3100 - accuracy: 0.8864\n",
            "Epoch 5/20\n",
            "1875/1875 [==============================] - 10s 6ms/step - loss: 0.2928 - accuracy: 0.8925\n",
            "Epoch 6/20\n",
            "1875/1875 [==============================] - 10s 5ms/step - loss: 0.2757 - accuracy: 0.9018\n",
            "Epoch 7/20\n",
            "1875/1875 [==============================] - 10s 5ms/step - loss: 0.2636 - accuracy: 0.9044\n",
            "Epoch 8/20\n",
            "1875/1875 [==============================] - 10s 5ms/step - loss: 0.2488 - accuracy: 0.9104\n",
            "Epoch 9/20\n",
            "1875/1875 [==============================] - 10s 5ms/step - loss: 0.2440 - accuracy: 0.9117\n",
            "Epoch 10/20\n",
            "1875/1875 [==============================] - 10s 5ms/step - loss: 0.2336 - accuracy: 0.9146\n",
            "Epoch 11/20\n",
            "1875/1875 [==============================] - 10s 5ms/step - loss: 0.2268 - accuracy: 0.9183\n",
            "Epoch 12/20\n",
            "1875/1875 [==============================] - 10s 5ms/step - loss: 0.2267 - accuracy: 0.9169\n",
            "Epoch 13/20\n",
            "1875/1875 [==============================] - 10s 5ms/step - loss: 0.2204 - accuracy: 0.9198\n",
            "Epoch 14/20\n",
            "1875/1875 [==============================] - 10s 5ms/step - loss: 0.2209 - accuracy: 0.9184\n",
            "Epoch 15/20\n",
            "1875/1875 [==============================] - 10s 5ms/step - loss: 0.2073 - accuracy: 0.9238\n",
            "Epoch 16/20\n",
            "1875/1875 [==============================] - 10s 5ms/step - loss: 0.2083 - accuracy: 0.9237\n",
            "Epoch 17/20\n",
            "1875/1875 [==============================] - 10s 5ms/step - loss: 0.2067 - accuracy: 0.9243\n",
            "Epoch 18/20\n",
            "1875/1875 [==============================] - 10s 5ms/step - loss: 0.2043 - accuracy: 0.9248\n",
            "Epoch 19/20\n",
            "1875/1875 [==============================] - 10s 5ms/step - loss: 0.1938 - accuracy: 0.9296\n",
            "Epoch 20/20\n",
            "1875/1875 [==============================] - 10s 5ms/step - loss: 0.1997 - accuracy: 0.9261\n",
            "\n",
            "Model 2 testing information\n",
            "\n",
            "\n",
            "Training took  202.58998894691467 seconds\n",
            "\n",
            "\n",
            "Testing statistics\n",
            "\n",
            "313/313 - 1s - loss: 0.2064 - accuracy: 0.9245\n"
          ],
          "name": "stdout"
        },
        {
          "output_type": "display_data",
          "data": {
            "image/png": "[encoded data removed]",
            "text/plain": [
              "<Figure size 432x288 with 2 Axes>"
            ]
          },
          "metadata": {
            "tags": [],
            "needs_background": "light"
          }
        }
      ]
    },
    {
      "cell_type": "markdown",
      "metadata": {
        "id": "djGQRfobLJr3"
      },
      "source": [
        "## **Part 3 - Batch Normalization**\n",
        "\n",
        "In part 3, we will be examining the effect of batch normalization layers on the performance of the model. Copy your code from the ```build_model_1B()``` method into the ```build_model_3()``` method, and then add batch normalization layers after each Conv2D layer. The Model 3 architecture should be:\n",
        "\n",
        "```\n",
        "Conv2D\n",
        "BatchNormalization\n",
        "Conv2D\n",
        "BatchNormalization\n",
        "MaxPooling2D((2,2))\n",
        "Conv2D\n",
        "BatchNormalization\n",
        "Conv2D\n",
        "BatchNormalization\n",
        "MaxPooling2D((2,2))\n",
        "Flatten\n",
        "Dense(1024 nodes)\n",
        "Dense(num_classes, softmax)\n",
        "```\n",
        " BatchNormalization layers requires no parameters. \n",
        " \n",
        " *Documentation can be found here*: https://keras.io/api/layers/normalization_layers/batch_normalization/"
      ]
    },
    {
      "cell_type": "markdown",
      "metadata": {
        "id": "4bnDQSWzNLB2"
      },
      "source": [
        "### ***TODO*** Model 3"
      ]
    },
    {
      "cell_type": "code",
      "metadata": {
        "id": "B0Ij7PNUNLB3"
      },
      "source": [
        "def build_model_3():\n",
        "    return tf.keras.Sequential(\n",
        "      [layers.Conv2D( # <-- Input layer\n",
        "            filters=64,\n",
        "            kernel_size=(3, 3),\n",
        "            activation=\"relu\",\n",
        "            padding=\"same\",\n",
        "            input_shape=data_shape,\n",
        "        ),\n",
        "       layers.BatchNormalization(),\n",
        "        layers.Conv2D(filters=64, activation=\"relu\", padding=\"same\", kernel_size=(3,3)),\n",
        "       layers.BatchNormalization(),\n",
        "        layers.MaxPooling2D(pool_size=(2, 2)),\n",
        "        layers.Conv2D(filters=64, activation=\"relu\", padding=\"same\", kernel_size=(3,3)),\n",
        "       layers.BatchNormalization(),\n",
        "        layers.Conv2D(filters=64, activation=\"relu\", padding=\"same\", kernel_size=(3,3)),\n",
        "       layers.BatchNormalization(),\n",
        "        layers.MaxPooling2D(pool_size=(2, 2)),\n",
        "        # !!! Your layers here !!!\n",
        "        layers.Flatten(),\n",
        "        layers.Dense(1024),\n",
        "        layers.Dense(num_classes, activation=\"softmax\")] # <-- Output layer\n",
        "  )"
      ],
      "execution_count": null,
      "outputs": []
    },
    {
      "cell_type": "markdown",
      "metadata": {
        "id": "GQ44IbO8NoSq"
      },
      "source": [
        "### Model Compilation and Summary\n",
        "\n"
      ]
    },
    {
      "cell_type": "code",
      "metadata": {
        "id": "21X2FgQYNoSs",
        "colab": {
          "base_uri": "https://localhost:8080/"
        },
        "outputId": "6f8a14d0-39fd-449d-d25a-d3c574a0b80a"
      },
      "source": [
        "tf.keras.backend.clear_session() # clear previously compiled models\n",
        "\n",
        "optimizer = optimizers.Adam(lr = LEARNING_RATE) # set optimizer\n",
        "\n",
        "# get network\n",
        "model_3 = build_model_3() \n",
        "\n",
        "\n",
        "# compile network\n",
        "model_3.compile(\n",
        "    optimizer=optimizer,\n",
        "    loss=tf.keras.losses.SparseCategoricalCrossentropy(from_logits=True),\n",
        "    metrics=[\"accuracy\"],\n",
        ")\n",
        "\n",
        "# print summary\n",
        "\n",
        "print(\"\\nModel 3 Architecture\\n\")\n",
        "model_3.summary()\n",
        "\n"
      ],
      "execution_count": null,
      "outputs": [
        {
          "output_type": "stream",
          "text": [
            "\n",
            "Model 3 Architecture\n",
            "\n",
            "Model: \"sequential\"\n",
            "_________________________________________________________________\n",
            "Layer (type)                 Output Shape              Param #   \n",
            "=================================================================\n",
            "conv2d (Conv2D)              (None, 28, 28, 64)        640       \n",
            "_________________________________________________________________\n",
            "batch_normalization (BatchNo (None, 28, 28, 64)        256       \n",
            "_________________________________________________________________\n",
            "conv2d_1 (Conv2D)            (None, 28, 28, 64)        36928     \n",
            "_________________________________________________________________\n",
            "batch_normalization_1 (Batch (None, 28, 28, 64)        256       \n",
            "_________________________________________________________________\n",
            "max_pooling2d (MaxPooling2D) (None, 14, 14, 64)        0         \n",
            "_________________________________________________________________\n",
            "conv2d_2 (Conv2D)            (None, 14, 14, 64)        36928     \n",
            "_________________________________________________________________\n",
            "batch_normalization_2 (Batch (None, 14, 14, 64)        256       \n",
            "_________________________________________________________________\n",
            "conv2d_3 (Conv2D)            (None, 14, 14, 64)        36928     \n",
            "_________________________________________________________________\n",
            "batch_normalization_3 (Batch (None, 14, 14, 64)        256       \n",
            "_________________________________________________________________\n",
            "max_pooling2d_1 (MaxPooling2 (None, 7, 7, 64)          0         \n",
            "_________________________________________________________________\n",
            "flatten (Flatten)            (None, 3136)              0         \n",
            "_________________________________________________________________\n",
            "dense (Dense)                (None, 1024)              3212288   \n",
            "_________________________________________________________________\n",
            "dense_1 (Dense)              (None, 10)                10250     \n",
            "=================================================================\n",
            "Total params: 3,334,986\n",
            "Trainable params: 3,334,474\n",
            "Non-trainable params: 512\n",
            "_________________________________________________________________\n"
          ],
          "name": "stdout"
        }
      ]
    },
    {
      "cell_type": "markdown",
      "metadata": {
        "id": "W40rVSoeZAlt"
      },
      "source": [
        "### ***TODO*** Global Hyperparameters\n",
        " \n",
        " Batch normalization has been shown to improve convergence in neural networks, and so the number of training epochs required may be lower than in the other architectures. Again refer to the initial loss plot to find the point of diminishing returns and update the ```EPOCHS``` variable."
      ]
    },
    {
      "cell_type": "code",
      "metadata": {
        "id": "dUivow6MZAlv"
      },
      "source": [
        "EPOCHS = 25"
      ],
      "execution_count": null,
      "outputs": []
    },
    {
      "cell_type": "markdown",
      "metadata": {
        "id": "V8ZBMiSlNoSu"
      },
      "source": [
        "### Testing Model 3\n",
        "\n",
        "When looking at the results, take note of the convergence rate during training (can be seen by the decrease in loss per epoch).\n"
      ]
    },
    {
      "cell_type": "code",
      "metadata": {
        "id": "AR_FDdEMNoSv",
        "colab": {
          "base_uri": "https://localhost:8080/",
          "height": 1000
        },
        "outputId": "d24a64b9-0f46-4b1c-fbe6-6a60c2700704"
      },
      "source": [
        "tf.keras.backend.clear_session() # clear previously compiled models\n",
        "\n",
        "optimizer = optimizers.Adam(lr = LEARNING_RATE) # set optimizer\n",
        "\n",
        "# get network\n",
        "model_3 = build_model_3() \n",
        "\n",
        "\n",
        "\n",
        "# compile network\n",
        "model_3.compile(\n",
        "    optimizer=optimizer,\n",
        "    loss=tf.keras.losses.SparseCategoricalCrossentropy(from_logits=True),\n",
        "    metrics=[\"accuracy\"],\n",
        ")\n",
        "\n",
        "perf_and_test(model_3, \"Model 3\")"
      ],
      "execution_count": null,
      "outputs": [
        {
          "output_type": "stream",
          "text": [
            "Epoch 1/25\n",
            "1875/1875 [==============================] - 12s 6ms/step - loss: 0.7211 - accuracy: 0.8092\n",
            "Epoch 2/25\n",
            "1875/1875 [==============================] - 11s 6ms/step - loss: 0.3788 - accuracy: 0.8924\n",
            "Epoch 3/25\n",
            "1875/1875 [==============================] - 11s 6ms/step - loss: 0.2848 - accuracy: 0.9121\n",
            "Epoch 4/25\n",
            "1875/1875 [==============================] - 11s 6ms/step - loss: 0.2270 - accuracy: 0.9262\n",
            "Epoch 5/25\n",
            "1875/1875 [==============================] - 11s 6ms/step - loss: 0.1888 - accuracy: 0.9367\n",
            "Epoch 6/25\n",
            "1875/1875 [==============================] - 11s 6ms/step - loss: 0.1561 - accuracy: 0.9452\n",
            "Epoch 7/25\n",
            "1875/1875 [==============================] - 11s 6ms/step - loss: 0.1324 - accuracy: 0.9526\n",
            "Epoch 8/25\n",
            "1875/1875 [==============================] - 11s 6ms/step - loss: 0.1135 - accuracy: 0.9581\n",
            "Epoch 9/25\n",
            "1875/1875 [==============================] - 11s 6ms/step - loss: 0.0933 - accuracy: 0.9671\n",
            "Epoch 10/25\n",
            "1875/1875 [==============================] - 11s 6ms/step - loss: 0.0848 - accuracy: 0.9700\n",
            "Epoch 11/25\n",
            "1875/1875 [==============================] - 11s 6ms/step - loss: 0.0739 - accuracy: 0.9740\n",
            "Epoch 12/25\n",
            "1875/1875 [==============================] - 11s 6ms/step - loss: 0.0603 - accuracy: 0.9779\n",
            "Epoch 13/25\n",
            "1875/1875 [==============================] - 11s 6ms/step - loss: 0.0586 - accuracy: 0.9795\n",
            "Epoch 14/25\n",
            "1875/1875 [==============================] - 11s 6ms/step - loss: 0.0460 - accuracy: 0.9833\n",
            "Epoch 15/25\n",
            "1875/1875 [==============================] - 11s 6ms/step - loss: 0.0479 - accuracy: 0.9833\n",
            "Epoch 16/25\n",
            "1875/1875 [==============================] - 11s 6ms/step - loss: 0.0410 - accuracy: 0.9850\n",
            "Epoch 17/25\n",
            "1875/1875 [==============================] - 11s 6ms/step - loss: 0.0332 - accuracy: 0.9888\n",
            "Epoch 18/25\n",
            "1875/1875 [==============================] - 11s 6ms/step - loss: 0.0377 - accuracy: 0.9872\n",
            "Epoch 19/25\n",
            "1875/1875 [==============================] - 11s 6ms/step - loss: 0.0340 - accuracy: 0.9873\n",
            "Epoch 20/25\n",
            "1875/1875 [==============================] - 11s 6ms/step - loss: 0.0293 - accuracy: 0.9890\n",
            "Epoch 21/25\n",
            "1875/1875 [==============================] - 11s 6ms/step - loss: 0.0297 - accuracy: 0.9897\n",
            "Epoch 22/25\n",
            "1875/1875 [==============================] - 11s 6ms/step - loss: 0.0249 - accuracy: 0.9907\n",
            "Epoch 23/25\n",
            "1875/1875 [==============================] - 11s 6ms/step - loss: 0.0293 - accuracy: 0.9894\n",
            "Epoch 24/25\n",
            "1875/1875 [==============================] - 11s 6ms/step - loss: 0.0236 - accuracy: 0.9922\n",
            "Epoch 25/25\n",
            "1875/1875 [==============================] - 11s 6ms/step - loss: 0.0226 - accuracy: 0.9914\n",
            "\n",
            "Model 3 testing information\n",
            "\n",
            "\n",
            "Training took  278.9320478439331 seconds\n",
            "\n",
            "\n",
            "Testing statistics\n",
            "\n",
            "313/313 - 1s - loss: 0.5500 - accuracy: 0.9134\n"
          ],
          "name": "stdout"
        },
        {
          "output_type": "display_data",
          "data": {
            "image/png": "[encoded data removed]",
            "text/plain": [
              "<Figure size 432x288 with 2 Axes>"
            ]
          },
          "metadata": {
            "tags": [],
            "needs_background": "light"
          }
        }
      ]
    },
    {
      "cell_type": "markdown",
      "metadata": {
        "id": "6pI2YZw9OCmI"
      },
      "source": [
        "## **Part 4 - Layer count**\n",
        "\n",
        "In the final part of this project, you will be looking out how the number of layers affect performance and training time.\n",
        "\n",
        "In ```build_model_4```, you need to implement the following architecture:\n",
        "\n",
        "```python\n",
        "# block 1 - 64 filters per Conv2D\n",
        "conv2D \n",
        "BatchNormaliztion\n",
        "conv2D\n",
        "BatchNormalization\n",
        "conv2D\n",
        "BatchNormalization\n",
        "MaxPooling2D\n",
        "Dropout(0.5)\n",
        "#block 2 - 128 filters per Conv2D\n",
        "conv2D \n",
        "BatchNormaliztion\n",
        "conv2D\n",
        "BatchNormalization\n",
        "conv2D\n",
        "BatchNormalization\n",
        "MaxPooling2D\n",
        "Dropout(0.5)\n",
        "#block 3 - 256 filters per Conv2D\n",
        "conv2D \n",
        "BatchNormaliztion\n",
        "conv2D\n",
        "BatchNormalization\n",
        "conv2D\n",
        "BatchNormalization\n",
        "MaxPooling2D\n",
        "Dropout(0.5)\n",
        "# Dense layers\n",
        "Flatten\n",
        "Dense(1024)\n",
        "Dense(512)\n",
        "Dense(num_classes, softmax)\n",
        "```\n",
        "\n",
        "Notice each block consists of 3 conv2d layers, with 3 batch normalization layers, a maxpooling and dropout layer. The first block should have 32 filters for each Conv2d layer, the second should have 64 filters, and the third should have 128."
      ]
    },
    {
      "cell_type": "markdown",
      "metadata": {
        "id": "wJh472usZ9S-"
      },
      "source": [
        "### ***TODO*** Model 4"
      ]
    },
    {
      "cell_type": "code",
      "metadata": {
        "id": "FmzGoD9waJ8r"
      },
      "source": [
        "def build_model_4():\n",
        "  return tf.keras.Sequential(\n",
        "    [\n",
        "        layers.Conv2D(\n",
        "            filters=64,\n",
        "            kernel_size=(3, 3),\n",
        "            activation=\"relu\",\n",
        "            padding=\"same\",\n",
        "            input_shape=data_shape,\n",
        "        ),\n",
        "        layers.BatchNormalization(),\n",
        "        layers.Conv2D(filters=64, kernel_size=(3, 3), activation=\"relu\", padding=\"same\"),\n",
        "        layers.BatchNormalization(),\n",
        "        layers.Conv2D(filters=64, kernel_size=(3, 3), activation=\"relu\", padding=\"same\"),\n",
        "        layers.BatchNormalization(),\n",
        "        layers.MaxPooling2D(pool_size=(2, 2)),\n",
        "        layers.Dropout(0.5),\n",
        "\n",
        "        layers.Conv2D(filters=128, kernel_size=(3, 3), activation=\"relu\", padding=\"same\"),\n",
        "        layers.BatchNormalization(),\n",
        "        layers.Conv2D(filters=128, kernel_size=(3, 3), activation=\"relu\", padding=\"same\"),\n",
        "        layers.BatchNormalization(),\n",
        "        layers.Conv2D(filters=128, kernel_size=(3, 3), activation=\"relu\", padding=\"same\"),\n",
        "        layers.BatchNormalization(),\n",
        "        layers.MaxPooling2D(pool_size=(2, 2)),\n",
        "        layers.Dropout(0.5),\n",
        "\n",
        "        layers.Conv2D(256, kernel_size=(3, 3), activation=\"relu\", padding=\"same\"),\n",
        "        layers.BatchNormalization(),\n",
        "        layers.Conv2D(256, kernel_size=(3, 3), activation=\"relu\", padding=\"same\"),\n",
        "        layers.BatchNormalization(),\n",
        "        layers.Conv2D(256, kernel_size=(3, 3), activation=\"relu\", padding=\"same\"),\n",
        "        layers.BatchNormalization(),\n",
        "        layers.MaxPooling2D(pool_size=(2, 2)),\n",
        "        layers.Dropout(0.5),\n",
        "\n",
        "        layers.Flatten(),\n",
        "        layers.Dense(1024, activation=\"relu\"),\n",
        "        layers.Dense(512, activation=\"relu\"),\n",
        "        layers.Dense(num_classes, activation=\"softmax\"),\n",
        "    ]\n",
        ")"
      ],
      "execution_count": null,
      "outputs": []
    },
    {
      "cell_type": "markdown",
      "metadata": {
        "id": "EDJ9q7AmcVFA"
      },
      "source": [
        "### Model Compilation and Summary\n",
        "\n"
      ]
    },
    {
      "cell_type": "code",
      "metadata": {
        "id": "JC5sRDlocVFB",
        "colab": {
          "base_uri": "https://localhost:8080/"
        },
        "outputId": "69256d52-3ec8-4475-fe4c-b86e74332b7e"
      },
      "source": [
        "tf.keras.backend.clear_session() # clear previously compiled models\n",
        "\n",
        "optimizer = optimizers.Adam(lr = LEARNING_RATE) # set optimizer\n",
        "\n",
        "# get network\n",
        "model_4 = build_model_4() \n",
        "\n",
        "\n",
        "# compile network\n",
        "model_4.compile(\n",
        "    optimizer=optimizer,\n",
        "    loss=tf.keras.losses.SparseCategoricalCrossentropy(from_logits=True),\n",
        "    metrics=[\"accuracy\"],\n",
        ")\n",
        "\n",
        "# print summary\n",
        "\n",
        "print(\"\\nModel 4 Architecture\\n\")\n",
        "model_4.summary()\n",
        "\n"
      ],
      "execution_count": null,
      "outputs": [
        {
          "output_type": "stream",
          "text": [
            "\n",
            "Model 4 Architecture\n",
            "\n",
            "Model: \"sequential\"\n",
            "_________________________________________________________________\n",
            "Layer (type)                 Output Shape              Param #   \n",
            "=================================================================\n",
            "conv2d (Conv2D)              (None, 28, 28, 64)        640       \n",
            "_________________________________________________________________\n",
            "batch_normalization (BatchNo (None, 28, 28, 64)        256       \n",
            "_________________________________________________________________\n",
            "conv2d_1 (Conv2D)            (None, 28, 28, 64)        36928     \n",
            "_________________________________________________________________\n",
            "batch_normalization_1 (Batch (None, 28, 28, 64)        256       \n",
            "_________________________________________________________________\n",
            "conv2d_2 (Conv2D)            (None, 28, 28, 64)        36928     \n",
            "_________________________________________________________________\n",
            "batch_normalization_2 (Batch (None, 28, 28, 64)        256       \n",
            "_________________________________________________________________\n",
            "max_pooling2d (MaxPooling2D) (None, 14, 14, 64)        0         \n",
            "_________________________________________________________________\n",
            "dropout (Dropout)            (None, 14, 14, 64)        0         \n",
            "_________________________________________________________________\n",
            "conv2d_3 (Conv2D)            (None, 14, 14, 128)       73856     \n",
            "_________________________________________________________________\n",
            "batch_normalization_3 (Batch (None, 14, 14, 128)       512       \n",
            "_________________________________________________________________\n",
            "conv2d_4 (Conv2D)            (None, 14, 14, 128)       147584    \n",
            "_________________________________________________________________\n",
            "batch_normalization_4 (Batch (None, 14, 14, 128)       512       \n",
            "_________________________________________________________________\n",
            "conv2d_5 (Conv2D)            (None, 14, 14, 128)       147584    \n",
            "_________________________________________________________________\n",
            "batch_normalization_5 (Batch (None, 14, 14, 128)       512       \n",
            "_________________________________________________________________\n",
            "max_pooling2d_1 (MaxPooling2 (None, 7, 7, 128)         0         \n",
            "_________________________________________________________________\n",
            "dropout_1 (Dropout)          (None, 7, 7, 128)         0         \n",
            "_________________________________________________________________\n",
            "conv2d_6 (Conv2D)            (None, 7, 7, 256)         295168    \n",
            "_________________________________________________________________\n",
            "batch_normalization_6 (Batch (None, 7, 7, 256)         1024      \n",
            "_________________________________________________________________\n",
            "conv2d_7 (Conv2D)            (None, 7, 7, 256)         590080    \n",
            "_________________________________________________________________\n",
            "batch_normalization_7 (Batch (None, 7, 7, 256)         1024      \n",
            "_________________________________________________________________\n",
            "conv2d_8 (Conv2D)            (None, 7, 7, 256)         590080    \n",
            "_________________________________________________________________\n",
            "batch_normalization_8 (Batch (None, 7, 7, 256)         1024      \n",
            "_________________________________________________________________\n",
            "max_pooling2d_2 (MaxPooling2 (None, 3, 3, 256)         0         \n",
            "_________________________________________________________________\n",
            "dropout_2 (Dropout)          (None, 3, 3, 256)         0         \n",
            "_________________________________________________________________\n",
            "flatten (Flatten)            (None, 2304)              0         \n",
            "_________________________________________________________________\n",
            "dense (Dense)                (None, 1024)              2360320   \n",
            "_________________________________________________________________\n",
            "dense_1 (Dense)              (None, 512)               524800    \n",
            "_________________________________________________________________\n",
            "dense_2 (Dense)              (None, 10)                5130      \n",
            "=================================================================\n",
            "Total params: 4,814,474\n",
            "Trainable params: 4,811,786\n",
            "Non-trainable params: 2,688\n",
            "_________________________________________________________________\n"
          ],
          "name": "stdout"
        }
      ]
    },
    {
      "cell_type": "markdown",
      "metadata": {
        "id": "B51tFQkVZ44z"
      },
      "source": [
        "### ***TODO*** Global Hyperparameters\n",
        "\n",
        "Larger models generally require more training as there are more parameters, so you may need to increase the number of training epochs for this model. In addition, more complicated architectures and problem domains can benefit from lower learning rates. Experiment with the learning rate to see if you notice any improvements. Keep in mind that decreasing the learning rate increases the training time, and to fully train your model you may need to increase the number of epochs as well. "
      ]
    },
    {
      "cell_type": "code",
      "metadata": {
        "id": "2E9CXtcDZ440"
      },
      "source": [
        "EPOCHS = 25\n",
        "LEARNING_RATE = 0.0001"
      ],
      "execution_count": null,
      "outputs": []
    },
    {
      "cell_type": "markdown",
      "metadata": {
        "id": "ZMjADtiLcduU"
      },
      "source": [
        "### Testing Model 4\n"
      ]
    },
    {
      "cell_type": "code",
      "metadata": {
        "id": "5YyVprVxcduV",
        "colab": {
          "base_uri": "https://localhost:8080/",
          "height": 1000
        },
        "outputId": "e61191ec-3471-41cc-ecc7-e72b06c5bf30"
      },
      "source": [
        "tf.keras.backend.clear_session() # clear previously compiled models\n",
        "\n",
        "optimizer = optimizers.Adam(lr = LEARNING_RATE) # set optimizer\n",
        "\n",
        "# get network\n",
        "model_4 = build_model_4() \n",
        "\n",
        "\n",
        "\n",
        "# compile network\n",
        "model_4.compile(\n",
        "    optimizer=optimizer,\n",
        "    loss=tf.keras.losses.SparseCategoricalCrossentropy(from_logits=True),\n",
        "    metrics=[\"accuracy\"],\n",
        ")\n",
        "\n",
        "perf_and_test(model_4, \"Model 4\")"
      ],
      "execution_count": null,
      "outputs": [
        {
          "output_type": "stream",
          "text": [
            "Epoch 1/25\n",
            "1875/1875 [==============================] - 26s 13ms/step - loss: 1.0390 - accuracy: 0.6356\n",
            "Epoch 2/25\n",
            "1875/1875 [==============================] - 25s 13ms/step - loss: 0.4360 - accuracy: 0.8368\n",
            "Epoch 3/25\n",
            "1875/1875 [==============================] - 25s 13ms/step - loss: 0.3349 - accuracy: 0.8778\n",
            "Epoch 4/25\n",
            "1875/1875 [==============================] - 25s 13ms/step - loss: 0.2865 - accuracy: 0.8954\n",
            "Epoch 5/25\n",
            "1875/1875 [==============================] - 25s 13ms/step - loss: 0.2540 - accuracy: 0.9057\n",
            "Epoch 6/25\n",
            "1875/1875 [==============================] - 25s 13ms/step - loss: 0.2335 - accuracy: 0.9128\n",
            "Epoch 7/25\n",
            "1875/1875 [==============================] - 25s 13ms/step - loss: 0.2117 - accuracy: 0.9211\n",
            "Epoch 8/25\n",
            "1875/1875 [==============================] - 25s 13ms/step - loss: 0.1976 - accuracy: 0.9245\n",
            "Epoch 9/25\n",
            "1875/1875 [==============================] - 25s 13ms/step - loss: 0.1853 - accuracy: 0.9310\n",
            "Epoch 10/25\n",
            "1875/1875 [==============================] - 25s 13ms/step - loss: 0.1726 - accuracy: 0.9352\n",
            "Epoch 11/25\n",
            "1875/1875 [==============================] - 25s 13ms/step - loss: 0.1611 - accuracy: 0.9404\n",
            "Epoch 12/25\n",
            "1875/1875 [==============================] - 25s 13ms/step - loss: 0.1554 - accuracy: 0.9417\n",
            "Epoch 13/25\n",
            "1875/1875 [==============================] - 25s 13ms/step - loss: 0.1445 - accuracy: 0.9453\n",
            "Epoch 14/25\n",
            "1875/1875 [==============================] - 25s 13ms/step - loss: 0.1380 - accuracy: 0.9476\n",
            "Epoch 15/25\n",
            "1875/1875 [==============================] - 25s 13ms/step - loss: 0.1329 - accuracy: 0.9491\n",
            "Epoch 16/25\n",
            "1875/1875 [==============================] - 25s 13ms/step - loss: 0.1270 - accuracy: 0.9519\n",
            "Epoch 17/25\n",
            "1875/1875 [==============================] - 25s 13ms/step - loss: 0.1179 - accuracy: 0.9560\n",
            "Epoch 18/25\n",
            "1875/1875 [==============================] - 25s 13ms/step - loss: 0.1093 - accuracy: 0.9594\n",
            "Epoch 19/25\n",
            "1875/1875 [==============================] - 25s 13ms/step - loss: 0.1049 - accuracy: 0.9603\n",
            "Epoch 20/25\n",
            "1875/1875 [==============================] - 25s 13ms/step - loss: 0.1000 - accuracy: 0.9623\n",
            "Epoch 21/25\n",
            "1875/1875 [==============================] - 25s 13ms/step - loss: 0.0938 - accuracy: 0.9641\n",
            "Epoch 22/25\n",
            "1875/1875 [==============================] - 25s 13ms/step - loss: 0.0917 - accuracy: 0.9661\n",
            "Epoch 23/25\n",
            "1875/1875 [==============================] - 25s 13ms/step - loss: 0.0884 - accuracy: 0.9667\n",
            "Epoch 24/25\n",
            "1875/1875 [==============================] - 25s 13ms/step - loss: 0.0873 - accuracy: 0.9674\n",
            "Epoch 25/25\n",
            "1875/1875 [==============================] - 25s 13ms/step - loss: 0.0756 - accuracy: 0.9715\n",
            "\n",
            "Model 4 testing information\n",
            "\n",
            "\n",
            "Training took  619.0701785087585 seconds\n",
            "\n",
            "\n",
            "Testing statistics\n",
            "\n",
            "313/313 - 2s - loss: 0.2040 - accuracy: 0.9401\n"
          ],
          "name": "stdout"
        },
        {
          "output_type": "display_data",
          "data": {
            "image/png": "[encoded data removed]",
            "text/plain": [
              "<Figure size 432x288 with 2 Axes>"
            ]
          },
          "metadata": {
            "tags": [],
            "needs_background": "light"
          }
        }
      ]
    },
    {
      "cell_type": "code",
      "metadata": {
        "id": "b4hUoEIokNod"
      },
      "source": [
        ""
      ],
      "execution_count": null,
      "outputs": []
    }
  ]
}